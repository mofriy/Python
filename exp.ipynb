{
 "cells": [
  {
   "cell_type": "markdown",
   "metadata": {},
   "source": [
    "# Ряд Тейлора: экспонента\n"
   ]
  },
  {
   "cell_type": "code",
   "execution_count": 1,
   "metadata": {},
   "outputs": [
    {
     "name": "stdout",
     "output_type": "stream",
     "text": [
      "5\n",
      "148.41315909805002\n",
      "148.4131591025766\n"
     ]
    }
   ],
   "source": [
    "import math\n",
    "\n",
    "iterations = 25\n",
    "\n",
    "def my_exp(x):\n",
    "    s = 1\n",
    "    t = x\n",
    "    for n in range(iterations):\n",
    "    \ts = s + t  \n",
    "    \tt = t * x /(n + 2)\n",
    "    return s\n",
    "y = float(input())\n",
    "print(my_exp(y))\n",
    "print(math.exp(y))"
   ]
  }
 ],
 "metadata": {
  "kernelspec": {
   "display_name": "Python 3",
   "language": "python",
   "name": "python3"
  },
  "language_info": {
   "codemirror_mode": {
    "name": "ipython",
    "version": 3
   },
   "file_extension": ".py",
   "mimetype": "text/x-python",
   "name": "python",
   "nbconvert_exporter": "python",
   "pygments_lexer": "ipython3",
   "version": "3.7.0"
  }
 },
 "nbformat": 4,
 "nbformat_minor": 2
}
