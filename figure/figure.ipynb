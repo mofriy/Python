{
 "cells": [
  {
   "cell_type": "code",
   "execution_count": 1,
   "metadata": {},
   "outputs": [
    {
     "name": "stderr",
     "output_type": "stream",
     "text": [
      "Using TensorFlow backend.\n"
     ]
    }
   ],
   "source": [
    "import os\n",
    "import numpy as np\n",
    "from keras.models import Model\n",
    "from keras.layers import Dense, Input\n",
    "#from keras.utils import np_utils\n",
    "import matplotlib.pyplot as plt\n"
   ]
  },
  {
   "cell_type": "code",
   "execution_count": null,
   "metadata": {},
   "outputs": [
    {
     "name": "stdout",
     "output_type": "stream",
     "text": [
      "WARNING:tensorflow:From c:\\program files\\python37\\lib\\site-packages\\tensorflow\\python\\framework\\op_def_library.py:263: colocate_with (from tensorflow.python.framework.ops) is deprecated and will be removed in a future version.\n",
      "Instructions for updating:\n",
      "Colocations handled automatically by placer.\n",
      "WARNING:tensorflow:From c:\\program files\\python37\\lib\\site-packages\\tensorflow\\python\\ops\\math_ops.py:3066: to_int32 (from tensorflow.python.ops.math_ops) is deprecated and will be removed in a future version.\n",
      "Instructions for updating:\n",
      "Use tf.cast instead.\n"
     ]
    },
    {
     "name": "stderr",
     "output_type": "stream",
     "text": [
      "C:\\Users\\Петя\\AppData\\Roaming\\Python\\Python37\\site-packages\\ipykernel_launcher.py:5: RuntimeWarning: invalid value encountered in double_scalars\n",
      "  \"\"\"\n",
      "C:\\Users\\Петя\\AppData\\Roaming\\Python\\Python37\\site-packages\\ipykernel_launcher.py:12: UserWarning: Update your `Model` call to the Keras 2 API: `Model(inputs=Tensor(\"in..., outputs=Tensor(\"de...)`\n",
      "  if sys.path[0] == '':\n"
     ]
    }
   ],
   "source": [
    "\n",
    "os.environ['TF_CPP_MIN_LOG_LEVEL'] = '2'\n",
    "np.random.seed(42)\n",
    "I = np.random.random((500,2))*4.0 - 2.0\n",
    "O = [1 if (x/2)**(2/3) + (y/2)**(2/3) <= 1 else 0 for [x,y] in I]\n",
    "l0 = Input(shape=(2,))\n",
    "l1 = Dense(6, activation='sigmoid', use_bias=True)(l0)\n",
    "l2 = Dense(6, activation='sigmoid', use_bias=True)(l1)\n",
    "l4 = Dense(6, activation='sigmoid', use_bias=True)(l2)\n",
    "l3 = Dense(1, activation='sigmoid', use_bias=False)(l4)\n",
    "\n",
    "model = Model(input = l0, output = l3)\n",
    "model.compile(\n",
    "    loss='mean_squared_error',\n",
    "    optimizer='adam',\n",
    "    metrics=['accuracy']\n",
    ")\n",
    "model.fit(\n",
    "        I, O,\n",
    "        epochs=10000,\n",
    "        verbose=False\n",
    "    )\n",
    "\n",
    "c = np.r_[-2.5:2.5:0.05]\n",
    "IO = np.transpose([np.tile(c, len(c)), np.repeat(c, len(c))])\n",
    "\n",
    "R = model.predict(IO)\n",
    "\n",
    "for (x, y), z in zip(IO, R):\n",
    "    plt.scatter(x, y, c='red' if z[0] >= 0.5 else 'green')\n",
    "\n",
    "plt.show()"
   ]
  },
  {
   "cell_type": "code",
   "execution_count": null,
   "metadata": {},
   "outputs": [],
   "source": []
  }
 ],
 "metadata": {
  "kernelspec": {
   "display_name": "Python 3",
   "language": "python",
   "name": "python3"
  },
  "language_info": {
   "codemirror_mode": {
    "name": "ipython",
    "version": 3
   },
   "file_extension": ".py",
   "mimetype": "text/x-python",
   "name": "python",
   "nbconvert_exporter": "python",
   "pygments_lexer": "ipython3",
   "version": "3.7.0"
  }
 },
 "nbformat": 4,
 "nbformat_minor": 2
}
