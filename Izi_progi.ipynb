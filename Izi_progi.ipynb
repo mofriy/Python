{
 "cells": [
  {
   "cell_type": "markdown",
   "metadata": {},
   "source": [
    "## 7.A Алгоритм Евклида"
   ]
  },
  {
   "cell_type": "code",
   "execution_count": 23,
   "metadata": {},
   "outputs": [
    {
     "name": "stdout",
     "output_type": "stream",
     "text": [
      "Введите число: 234\n",
      "И еще одно: 676\n",
      "26\n"
     ]
    }
   ],
   "source": [
    "import math\n",
    "\n",
    "def gcd(a, b: 'int') -> 'int':\n",
    "    if b == 0:\n",
    "        return a\n",
    "    else:\n",
    "        return gcd(b, a % b)\n",
    "\n",
    "a = int(input(\"Введите число: \"))\n",
    "b = int(input(\"И еще одно: \"))\n",
    "if a > b:\n",
    "    print (gcd(a,b))\n",
    "else:\n",
    "    print (gcd(b,a))"
   ]
  },
  {
   "cell_type": "markdown",
   "metadata": {},
   "source": [
    "## 7.B Простое ли число?"
   ]
  },
  {
   "cell_type": "code",
   "execution_count": 14,
   "metadata": {
    "scrolled": true
   },
   "outputs": [
    {
     "name": "stdout",
     "output_type": "stream",
     "text": [
      "Введите число: 239\n",
      "True\n"
     ]
    }
   ],
   "source": [
    "def is_simple(value: 'int') -> 'bool':\n",
    "    f = True\n",
    "    x = range(2, round(value ** 0.5))\n",
    "    for i in x:\n",
    "        if (value % i) == 0:\n",
    "            f = False\n",
    "    return f\n",
    "\n",
    "t = int(input(\"Введите число: \"))\n",
    "print(is_simple(t))"
   ]
  },
  {
   "cell_type": "markdown",
   "metadata": {},
   "source": [
    "## 7.C Вывод в системе счисления"
   ]
  },
  {
   "cell_type": "code",
   "execution_count": 15,
   "metadata": {
    "scrolled": true
   },
   "outputs": [
    {
     "name": "stdout",
     "output_type": "stream",
     "text": [
      "Введите число: 44027\n",
      "Введите основание: 36\n",
      "XYZ\n"
     ]
    }
   ],
   "source": [
    "def str_base(value: 'int', base: 'int') -> 'str':\n",
    "    newint = ''\n",
    "    while value > 0:\n",
    "        x = value % base\n",
    "        if x < 10:\n",
    "            newint = chr(x) + newint\n",
    "        else:\n",
    "            newint = chr(x + 55) + newint\n",
    "        value = value // base\n",
    "    return newint\n",
    "\n",
    "a = int(input(\"Введите число: \"))\n",
    "b = int(input(\"Введите основание: \"))\n",
    "print(str_base(a, b))"
   ]
  },
  {
   "cell_type": "markdown",
   "metadata": {},
   "source": [
    "## 7.D Расширенный алгоритм Евклида"
   ]
  },
  {
   "cell_type": "code",
   "execution_count": 23,
   "metadata": {},
   "outputs": [
    {
     "name": "stdout",
     "output_type": "stream",
     "text": [
      "Введите число: 234\n",
      "И еще одно: 676\n",
      "3 -1 26\n"
     ]
    }
   ],
   "source": [
    "def egcd (a, b: 'int') -> '[x, y, gcd]':\n",
    "        if b == 0:\n",
    "            return [1, 0, a]\n",
    "        else:\n",
    "            [x1, y1, d] = egcd(b, a % b)\n",
    "            return [y1, x1 - (a // b) * y1, d]\n",
    "\n",
    "a = int(input(\"Введите число: \"))\n",
    "b = int(input(\"И еще одно: \"))\n",
    "if a > b:\n",
    "    print (egcd(a,b))\n",
    "else:\n",
    "    t = egcd(b,a)\n",
    "    print (t[1], t[0], t[2])"
   ]
  }
 ],
 "metadata": {
  "kernelspec": {
   "display_name": "Python 3",
   "language": "python",
   "name": "python3"
  },
  "language_info": {
   "codemirror_mode": {
    "name": "ipython",
    "version": 3
   },
   "file_extension": ".py",
   "mimetype": "text/x-python",
   "name": "python",
   "nbconvert_exporter": "python",
   "pygments_lexer": "ipython3",
   "version": "3.7.0"
  }
 },
 "nbformat": 4,
 "nbformat_minor": 2
}
