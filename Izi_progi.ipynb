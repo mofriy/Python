{
 "cells": [
  {
   "cell_type": "markdown",
   "metadata": {},
   "source": [
    "## 7.A Алгоритм Евклида"
   ]
  },
  {
   "cell_type": "code",
   "execution_count": 3,
   "metadata": {},
   "outputs": [
    {
     "name": "stdout",
     "output_type": "stream",
     "text": [
      "Введите число: 234\n",
      "И еще одно: 676\n",
      "26\n"
     ]
    }
   ],
   "source": [
    "import math\n",
    "\n",
    "def gcd(a, b: 'int') -> 'int':\n",
    "    if b == 0:\n",
    "        return a\n",
    "    else:\n",
    "        return gcd(b, a % b)\n",
    "\n",
    "a = int(input(\"Введите число: \"))\n",
    "b = int(input(\"И еще одно: \"))\n",
    "print(gcd(a,b))"
   ]
  },
  {
   "cell_type": "markdown",
   "metadata": {},
   "source": [
    "## 7.B Простое ли число?"
   ]
  },
  {
   "cell_type": "code",
   "execution_count": 5,
   "metadata": {
    "scrolled": true
   },
   "outputs": [
    {
     "name": "stdout",
     "output_type": "stream",
     "text": [
      "Введите число: 4\n",
      "False\n",
      "False\n",
      "781 ns ± 2.2 ns per loop (mean ± std. dev. of 7 runs, 1000000 loops each)\n",
      "192 ns ± 1.02 ns per loop (mean ± std. dev. of 7 runs, 10000000 loops each)\n",
      "145 ns ± 0.76 ns per loop (mean ± std. dev. of 7 runs, 10000000 loops each)\n",
      "139 ns ± 0.66 ns per loop (mean ± std. dev. of 7 runs, 10000000 loops each)\n"
     ]
    }
   ],
   "source": [
    "import functools\n",
    "\n",
    "def is_simple(value: 'int') -> 'bool':\n",
    "    f = True\n",
    "    i = 2\n",
    "    while i <= round(value**0.5):\n",
    "        if (value % i) == 0:\n",
    "            f = False\n",
    "            break\n",
    "        i += 1\n",
    "    return f\n",
    "\n",
    "def is_simple_speedrun(value: 'int') -> 'bool':  \n",
    "    #Эта версия проверяет делимость на 2,\n",
    "    #затем пропускает в цикле все четные числа, чтобы побыстрее его пробежать\n",
    "    f = True\n",
    "    if value % 2 == 0:\n",
    "        return False\n",
    "    else:\n",
    "        i = 3\n",
    "        while i <= round(value**0.5):\n",
    "            if (value % i) == 0:\n",
    "                f = False\n",
    "                break\n",
    "            i += 2\n",
    "        return f\n",
    "\n",
    "@functools.lru_cache()\n",
    "def is_simple_cached(value: 'int') -> 'bool':\n",
    "    f = True\n",
    "    i = 2\n",
    "    while i <= round(value**0.5):\n",
    "        if (value % i) == 0:\n",
    "            f = False\n",
    "            break\n",
    "        i += 1\n",
    "    return f\n",
    "\n",
    "@functools.lru_cache()\n",
    "def is_simple_speedrun_cached(value: 'int') -> 'bool':  \n",
    "    f = True\n",
    "    if value % 2 == 0:\n",
    "        return False\n",
    "    else:\n",
    "        i = 3\n",
    "    while i <= round(value**0.5):\n",
    "        if (value % i) == 0:\n",
    "            f = False\n",
    "            break\n",
    "        i += 2\n",
    "    return f\n",
    "\n",
    "t = int(input(\"Введите число: \"))\n",
    "\n",
    "print(is_simple_cached(t))\n",
    "print(is_simple_speedrun(t))\n",
    "\n",
    "%timeit is_simple(500)\n",
    "%timeit is_simple_speedrun(500)\n",
    "%timeit is_simple_cached(500)\n",
    "%timeit is_simple_speedrun_cached(500)\n",
    "\n"
   ]
  },
  {
   "cell_type": "markdown",
   "metadata": {},
   "source": [
    "## 7.C Вывод в системе счисления"
   ]
  },
  {
   "cell_type": "code",
   "execution_count": 5,
   "metadata": {},
   "outputs": [
    {
     "name": "stdout",
     "output_type": "stream",
     "text": [
      "Введите число: 44027\n",
      "Введите основание: 36\n",
      "XYZ\n"
     ]
    }
   ],
   "source": [
    "def str_base(value: 'int', base: 'int') -> 'str':\n",
    "    newint = ''\n",
    "    while value > 0:\n",
    "        x = value % base\n",
    "        if x < 10:\n",
    "            newint = chr(x) + newint\n",
    "        else:\n",
    "            newint = chr(x + ord('A') - 10) + newint\n",
    "        value = value // base\n",
    "    return newint\n",
    "\n",
    "a = int(input(\"Введите число: \"))\n",
    "b = int(input(\"Введите основание: \"))\n",
    "\n",
    "print(str_base(a, b))"
   ]
  },
  {
   "cell_type": "markdown",
   "metadata": {},
   "source": [
    "## 7.D Расширенный алгоритм Евклида"
   ]
  },
  {
   "cell_type": "code",
   "execution_count": 1,
   "metadata": {},
   "outputs": [
    {
     "name": "stdout",
     "output_type": "stream",
     "text": [
      "Введите число: 1001\n",
      "И еще одно: 343\n",
      "[12, -35, 7]\n"
     ]
    }
   ],
   "source": [
    "def egcd (a, b: 'int') -> '[x, y, gcd]':\n",
    "    if b == 0:\n",
    "        return [1, 0, a]\n",
    "    else:\n",
    "        [x1, y1, d] = egcd(b, a % b)\n",
    "        return [y1, x1 - (a // b) * y1, d]\n",
    "\n",
    "a = int(input(\"Введите число: \"))\n",
    "b = int(input(\"И еще одно: \"))\n",
    "\n",
    "print (egcd(a,b))\n"
   ]
  }
 ],
 "metadata": {
  "kernelspec": {
   "display_name": "Python 3",
   "language": "python",
   "name": "python3"
  },
  "language_info": {
   "codemirror_mode": {
    "name": "ipython",
    "version": 3
   },
   "file_extension": ".py",
   "mimetype": "text/x-python",
   "name": "python",
   "nbconvert_exporter": "python",
   "pygments_lexer": "ipython3",
   "version": "3.7.0"
  }
 },
 "nbformat": 4,
 "nbformat_minor": 2
}
