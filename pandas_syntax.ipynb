{
 "cells": [
  {
   "cell_type": "code",
   "execution_count": 2,
   "metadata": {},
   "outputs": [],
   "source": [
    "\n",
    "class mylist:\n",
    "\n",
    "    def __init__(self, x):\n",
    "        self.x = x\n",
    "        \n",
    "    def __str__(self):\n",
    "        a = ''\n",
    "        t = 0\n",
    "        for i in self.x:\n",
    "            a += '{}:  {}\\n'.format(t, i)\n",
    "            t+=1\n",
    "        return a\n",
    "    \n",
    "    def __lt__(self, t):\n",
    "        a = []\n",
    "        for i in self.x:\n",
    "            if i < t:\n",
    "                a.append(i)\n",
    "        return mylist(a)\n",
    "    \n",
    "    def __gt__(self, t):\n",
    "        a = []\n",
    "        for i in self.x:\n",
    "            if i > t:\n",
    "                a.append(i)\n",
    "        return mylist(a)\n",
    "    \n",
    "    def __eg__(self, t):\n",
    "        a = []\n",
    "        for i in self.x:\n",
    "            if i==t:\n",
    "                a.append(i)\n",
    "        return mylist(a)\n",
    "    \n",
    "    def __le__(self, t):\n",
    "        a = []\n",
    "        for i in self.x:\n",
    "            if i <= t:\n",
    "                a.append(i)\n",
    "        return mylist(a)\n",
    "    \n",
    "    def __ge__(self, t):\n",
    "        a = []\n",
    "        for i in self.x:\n",
    "            if i >= t:\n",
    "                a.append(i)\n",
    "        return mylist(a)\n",
    "    \n",
    "    def __contains__(self, x):\n",
    "        if type(x)==int:\n",
    "            f = False\n",
    "            for i in self.x:\n",
    "                if i==x:\n",
    "                    f = True\n",
    "            return f\n",
    "        if type(x)==mylist:\n",
    "            t = x.x\n",
    "        else:\n",
    "            t = x\n",
    "        for i in t:\n",
    "            f = False\n",
    "            for j in self.x:\n",
    "                if i==j:\n",
    "                    f = True\n",
    "            if f==False:\n",
    "                return False\n",
    "        return True\n",
    "    \n",
    "    def __getitem__(self, x):\n",
    "        if type(x)==int:\n",
    "            if x in self.x:\n",
    "                return x\n",
    "            return False\n",
    "        if type(x)==mylist:\n",
    "            t = x.x\n",
    "        else:\n",
    "            t = x\n",
    "        a = []\n",
    "        for i in t:\n",
    "            if i in self:\n",
    "                a.append(i)\n",
    "        return mylist(a)\n",
    "    \n",
    "b = mylist([1,3,5,7,9,11,13,15,17])\n",
    "a = mylist([1,2,3,4,5,6,7,8,9,0])\n"
   ]
  },
  {
   "cell_type": "code",
   "execution_count": 3,
   "metadata": {},
   "outputs": [
    {
     "name": "stdout",
     "output_type": "stream",
     "text": [
      "0:  1\n",
      "1:  2\n",
      "2:  3\n",
      "3:  4\n",
      "4:  5\n",
      "5:  6\n",
      "6:  7\n",
      "7:  8\n",
      "8:  9\n",
      "9:  0\n",
      "\n"
     ]
    }
   ],
   "source": [
    "print(a)\n"
   ]
  },
  {
   "cell_type": "code",
   "execution_count": 4,
   "metadata": {},
   "outputs": [
    {
     "name": "stdout",
     "output_type": "stream",
     "text": [
      "0:  6\n",
      "1:  7\n",
      "2:  8\n",
      "3:  9\n",
      "\n"
     ]
    }
   ],
   "source": [
    "print(a>5)\n"
   ]
  },
  {
   "cell_type": "code",
   "execution_count": 5,
   "metadata": {},
   "outputs": [
    {
     "name": "stdout",
     "output_type": "stream",
     "text": [
      "0:  7\n",
      "1:  9\n",
      "\n"
     ]
    }
   ],
   "source": [
    "print(b[a>5])\n"
   ]
  },
  {
   "cell_type": "code",
   "execution_count": 8,
   "metadata": {},
   "outputs": [
    {
     "name": "stdout",
     "output_type": "stream",
     "text": [
      "0:  1\n",
      "1:  3\n",
      "2:  5\n",
      "3:  7\n",
      "4:  9\n",
      "\n"
     ]
    }
   ],
   "source": [
    "print(a[b])"
   ]
  },
  {
   "cell_type": "code",
   "execution_count": null,
   "metadata": {},
   "outputs": [],
   "source": []
  }
 ],
 "metadata": {
  "kernelspec": {
   "display_name": "Python 3",
   "language": "python",
   "name": "python3"
  },
  "language_info": {
   "codemirror_mode": {
    "name": "ipython",
    "version": 3
   },
   "file_extension": ".py",
   "mimetype": "text/x-python",
   "name": "python",
   "nbconvert_exporter": "python",
   "pygments_lexer": "ipython3",
   "version": "3.7.0"
  }
 },
 "nbformat": 4,
 "nbformat_minor": 2
}
